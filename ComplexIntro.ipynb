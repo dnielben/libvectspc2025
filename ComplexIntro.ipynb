{
 "cells": [
  {
   "cell_type": "markdown",
   "id": "89e66669-ce38-4e79-8dd8-067b7ae16174",
   "metadata": {},
   "source": [
    "# Complex numbers\n",
    "\n",
    "By: Luis Daniel Benavides N. (V1.0 26-01-2024)\n",
    "\n",
    "## Tutorial Outline\n",
    "\n",
    "1. Introduction to Complex Numbers\n",
    "    - Definition and notation\n",
    "    - Real and imaginary parts\n",
    "\n",
    "2. Basic Operations with Complex Numbers\n",
    "    - Addition, subtraction, multiplication, division\n",
    "    - Conjugate and absolute value\n",
    "\n",
    "3. Complex Numbers in Python\n",
    "    - Using Python's complex type\n",
    "    - Basic operations in Python\n",
    "  \n",
    "4. Polar Representation of Complex Numbers\n",
    "    - Polar representation\n",
    "    - Euler notation\n",
    "\n",
    "6. Application: Fractals and Complex Numbers\n",
    "    - Introduction to fractals\n",
    "    - Generating a Mandelbrot set\n",
    "\n",
    "7. Exercises for Students\n",
    "    - Practice problems on complex number operations\n",
    "    - Creating a Julia set fractal"
   ]
  },
  {
   "cell_type": "markdown",
   "id": "a306632f-095f-41af-8bf6-b50ee568a06a",
   "metadata": {},
   "source": [
    "## Software Requirements\n",
    "\n",
    "    - numpy\n",
    "    - matplotlib\n",
    "    - ipywidgets"
   ]
  },
  {
   "cell_type": "code",
   "execution_count": 4,
   "id": "d324731c",
   "metadata": {},
   "outputs": [
    {
     "name": "stdout",
     "output_type": "stream",
     "text": [
      "Collecting numpy\n",
      "  Downloading numpy-2.2.2-cp313-cp313-macosx_14_0_arm64.whl.metadata (62 kB)\n",
      "Collecting matplotlib\n",
      "  Downloading matplotlib-3.10.0-cp313-cp313-macosx_11_0_arm64.whl.metadata (11 kB)\n",
      "Collecting ipywidgets\n",
      "  Downloading ipywidgets-8.1.5-py3-none-any.whl.metadata (2.3 kB)\n",
      "Collecting contourpy>=1.0.1 (from matplotlib)\n",
      "  Downloading contourpy-1.3.1-cp313-cp313-macosx_11_0_arm64.whl.metadata (5.4 kB)\n",
      "Collecting cycler>=0.10 (from matplotlib)\n",
      "  Downloading cycler-0.12.1-py3-none-any.whl.metadata (3.8 kB)\n",
      "Collecting fonttools>=4.22.0 (from matplotlib)\n",
      "  Downloading fonttools-4.55.7-cp313-cp313-macosx_10_13_universal2.whl.metadata (100 kB)\n",
      "Collecting kiwisolver>=1.3.1 (from matplotlib)\n",
      "  Downloading kiwisolver-1.4.8-cp313-cp313-macosx_11_0_arm64.whl.metadata (6.2 kB)\n",
      "Requirement already satisfied: packaging>=20.0 in ./.venv/lib/python3.13/site-packages (from matplotlib) (24.2)\n",
      "Collecting pillow>=8 (from matplotlib)\n",
      "  Downloading pillow-11.1.0-cp313-cp313-macosx_11_0_arm64.whl.metadata (9.1 kB)\n",
      "Collecting pyparsing>=2.3.1 (from matplotlib)\n",
      "  Downloading pyparsing-3.2.1-py3-none-any.whl.metadata (5.0 kB)\n",
      "Requirement already satisfied: python-dateutil>=2.7 in ./.venv/lib/python3.13/site-packages (from matplotlib) (2.9.0.post0)\n",
      "Requirement already satisfied: comm>=0.1.3 in ./.venv/lib/python3.13/site-packages (from ipywidgets) (0.2.2)\n",
      "Requirement already satisfied: ipython>=6.1.0 in ./.venv/lib/python3.13/site-packages (from ipywidgets) (8.31.0)\n",
      "Requirement already satisfied: traitlets>=4.3.1 in ./.venv/lib/python3.13/site-packages (from ipywidgets) (5.14.3)\n",
      "Collecting widgetsnbextension~=4.0.12 (from ipywidgets)\n",
      "  Downloading widgetsnbextension-4.0.13-py3-none-any.whl.metadata (1.6 kB)\n",
      "Collecting jupyterlab-widgets~=3.0.12 (from ipywidgets)\n",
      "  Downloading jupyterlab_widgets-3.0.13-py3-none-any.whl.metadata (4.1 kB)\n",
      "Requirement already satisfied: decorator in ./.venv/lib/python3.13/site-packages (from ipython>=6.1.0->ipywidgets) (5.1.1)\n",
      "Requirement already satisfied: jedi>=0.16 in ./.venv/lib/python3.13/site-packages (from ipython>=6.1.0->ipywidgets) (0.19.2)\n",
      "Requirement already satisfied: matplotlib-inline in ./.venv/lib/python3.13/site-packages (from ipython>=6.1.0->ipywidgets) (0.1.7)\n",
      "Requirement already satisfied: pexpect>4.3 in ./.venv/lib/python3.13/site-packages (from ipython>=6.1.0->ipywidgets) (4.9.0)\n",
      "Requirement already satisfied: prompt_toolkit<3.1.0,>=3.0.41 in ./.venv/lib/python3.13/site-packages (from ipython>=6.1.0->ipywidgets) (3.0.50)\n",
      "Requirement already satisfied: pygments>=2.4.0 in ./.venv/lib/python3.13/site-packages (from ipython>=6.1.0->ipywidgets) (2.19.1)\n",
      "Requirement already satisfied: stack_data in ./.venv/lib/python3.13/site-packages (from ipython>=6.1.0->ipywidgets) (0.6.3)\n",
      "Requirement already satisfied: six>=1.5 in ./.venv/lib/python3.13/site-packages (from python-dateutil>=2.7->matplotlib) (1.17.0)\n",
      "Requirement already satisfied: parso<0.9.0,>=0.8.4 in ./.venv/lib/python3.13/site-packages (from jedi>=0.16->ipython>=6.1.0->ipywidgets) (0.8.4)\n",
      "Requirement already satisfied: ptyprocess>=0.5 in ./.venv/lib/python3.13/site-packages (from pexpect>4.3->ipython>=6.1.0->ipywidgets) (0.7.0)\n",
      "Requirement already satisfied: wcwidth in ./.venv/lib/python3.13/site-packages (from prompt_toolkit<3.1.0,>=3.0.41->ipython>=6.1.0->ipywidgets) (0.2.13)\n",
      "Requirement already satisfied: executing>=1.2.0 in ./.venv/lib/python3.13/site-packages (from stack_data->ipython>=6.1.0->ipywidgets) (2.2.0)\n",
      "Requirement already satisfied: asttokens>=2.1.0 in ./.venv/lib/python3.13/site-packages (from stack_data->ipython>=6.1.0->ipywidgets) (3.0.0)\n",
      "Requirement already satisfied: pure-eval in ./.venv/lib/python3.13/site-packages (from stack_data->ipython>=6.1.0->ipywidgets) (0.2.3)\n",
      "Downloading numpy-2.2.2-cp313-cp313-macosx_14_0_arm64.whl (5.1 MB)\n",
      "\u001b[2K   \u001b[90m━━━━━━━━━━━━━━━━━━━━━━━━━━━━━━━━━━━━━━━━\u001b[0m \u001b[32m5.1/5.1 MB\u001b[0m \u001b[31m6.9 MB/s\u001b[0m eta \u001b[36m0:00:00\u001b[0ma \u001b[36m0:00:01\u001b[0m\n",
      "\u001b[?25hDownloading matplotlib-3.10.0-cp313-cp313-macosx_11_0_arm64.whl (8.0 MB)\n",
      "\u001b[2K   \u001b[90m━━━━━━━━━━━━━━━━━━━━━━━━━━━━━━━━━━━━━━━━\u001b[0m \u001b[32m8.0/8.0 MB\u001b[0m \u001b[31m5.3 MB/s\u001b[0m eta \u001b[36m0:00:00\u001b[0ma \u001b[36m0:00:01\u001b[0m\n",
      "\u001b[?25hDownloading ipywidgets-8.1.5-py3-none-any.whl (139 kB)\n",
      "Downloading contourpy-1.3.1-cp313-cp313-macosx_11_0_arm64.whl (255 kB)\n",
      "Downloading cycler-0.12.1-py3-none-any.whl (8.3 kB)\n",
      "Downloading fonttools-4.55.7-cp313-cp313-macosx_10_13_universal2.whl (2.7 MB)\n",
      "\u001b[2K   \u001b[90m━━━━━━━━━━━━━━━━━━━━━━━━━━━━━━━━━━━━━━━━\u001b[0m \u001b[32m2.7/2.7 MB\u001b[0m \u001b[31m5.8 MB/s\u001b[0m eta \u001b[36m0:00:00\u001b[0ma \u001b[36m0:00:01\u001b[0m\n",
      "\u001b[?25hDownloading jupyterlab_widgets-3.0.13-py3-none-any.whl (214 kB)\n",
      "Downloading kiwisolver-1.4.8-cp313-cp313-macosx_11_0_arm64.whl (65 kB)\n",
      "Downloading pillow-11.1.0-cp313-cp313-macosx_11_0_arm64.whl (3.1 MB)\n",
      "\u001b[2K   \u001b[90m━━━━━━━━━━━━━━━━━━━━━━━━━━━━━━━━━━━━━━━━\u001b[0m \u001b[32m3.1/3.1 MB\u001b[0m \u001b[31m6.9 MB/s\u001b[0m eta \u001b[36m0:00:00\u001b[0ma \u001b[36m0:00:01\u001b[0m\n",
      "\u001b[?25hDownloading pyparsing-3.2.1-py3-none-any.whl (107 kB)\n",
      "Downloading widgetsnbextension-4.0.13-py3-none-any.whl (2.3 MB)\n",
      "\u001b[2K   \u001b[90m━━━━━━━━━━━━━━━━━━━━━━━━━━━━━━━━━━━━━━━━\u001b[0m \u001b[32m2.3/2.3 MB\u001b[0m \u001b[31m7.0 MB/s\u001b[0m eta \u001b[36m0:00:00\u001b[0ma \u001b[36m0:00:01\u001b[0m\n",
      "\u001b[?25hInstalling collected packages: widgetsnbextension, pyparsing, pillow, numpy, kiwisolver, jupyterlab-widgets, fonttools, cycler, contourpy, matplotlib, ipywidgets\n",
      "Successfully installed contourpy-1.3.1 cycler-0.12.1 fonttools-4.55.7 ipywidgets-8.1.5 jupyterlab-widgets-3.0.13 kiwisolver-1.4.8 matplotlib-3.10.0 numpy-2.2.2 pillow-11.1.0 pyparsing-3.2.1 widgetsnbextension-4.0.13\n",
      "Note: you may need to restart the kernel to use updated packages.\n"
     ]
    }
   ],
   "source": [
    "%pip install numpy matplotlib ipywidgets"
   ]
  },
  {
   "cell_type": "markdown",
   "id": "513d253e-6b11-409a-aafc-135d6518757f",
   "metadata": {},
   "source": [
    "# 1. Introduction to Complex Numbers\n",
    "    - Definition and notation\n",
    "    - Real and imaginary parts\n",
    "\n",
    "Complex numbers are an extension of the real numbers and are fundamental in advanced mathematics and engineering. They provide a solution to equations that have no real solutions, such as the square root of negative numbers.\n",
    "\n",
    "## Definition\n",
    "\n",
    "A complex number is defined as a number of the form $ a + bi $, where:\n",
    "\n",
    "- $ a $ and $ b $ are real numbers,\n",
    "- $ i $ is the imaginary unit with the property $ i² = -1 $.\n",
    "\n",
    "The real part of the complex number is $ a $, and the imaginary part is $ b $.\n",
    "\n",
    "## Imaginary Unit\n",
    "\n",
    "The imaginary unit $ i $ is defined by its property $ i² = -1 $. It allows the definition of complex numbers and facilitates the computation of the square root of negative numbers. For example, the square root of -1 is represented as $ i $, and the square root of -4 is $ 2i $.\n",
    "\n",
    "## Complex Plane\n",
    "\n",
    "The complex plane is a two-dimensional plane where complex numbers are graphed. The horizontal axis represents the real part, and the vertical axis represents the imaginary part.\n",
    "\n",
    "## Applications\n",
    "\n",
    "Complex numbers have applications in various fields, including engineering, physics, computer science, and more. They are especially useful in representing oscillations, waves, and other phenomena involving two-dimensional quantities.\n"
   ]
  },
  {
   "cell_type": "markdown",
   "id": "f9098711-d344-457d-aac0-2646e25ff44d",
   "metadata": {},
   "source": [
    "# 2. Basic Operations with Complex Numbers\n",
    "\n",
    "    Addition, subtraction, multiplication, division\n",
    "    Conjugate and modulus value\n",
    "\n",
    "## Algebraic Operations\n",
    "\n",
    "Complex numbers can be added, subtracted, multiplied, and divided:\n",
    "\n",
    "- **Addition**: $+: \\mathbb{C} \\times \\mathbb{C}   \\rightarrow \\mathbb{C}:  (a_1+b_1i) + (a_2+b_2i) = (a_1+a_2) + (b_1+b_2)i$\n",
    "- **Subtraction**: $-: \\mathbb{C} \\times \\mathbb{C}   \\rightarrow \\mathbb{C}: (a + bi) - (c + di) = (a - c) + (b - d)i $\n",
    "- **Multiplication**: $+: \\mathbb{C} \\times \\mathbb{C}   \\rightarrow \\mathbb{C}: (a + bi)(c + di) = (ac - bd) + (ad + bc)i $\n",
    "- **Division**: $/: \\mathbb{C} \\times \\mathbb{C}   \\rightarrow \\mathbb{C}: \\frac{a + bi}{c + di} = \\frac{(ac + bd) + (bc - ad)i}{c² + d²} $\n",
    "\n",
    "## Complex Conjugate\n",
    "\n",
    "The complex conjugate of a complex number \\( a + bi \\) is \\( a - bi \\). It is obtained by changing the sign of the imaginary part. This concept is particularly useful in division and in finding the magnitude of complex numbers.\n",
    "\n",
    "$$ \\text{ }^{-} : \\mathbb{C} \\rightarrow \\mathbb{C} : \\bar c = \\overline {a + bi} = a -bi $$\n",
    "\n",
    "## Magnitude (Modulus)\n",
    "\n",
    "The magnitude (or modulus) of a complex number \\( a + bi \\) is given by \\( \\sqrt{a² + b²} \\). It represents the distance of the complex number from the origin in the complex plane.\n",
    "\n",
    "$$| \\text{ }| : \\mathbb{C} \\rightarrow \\mathbb{R} : |c| = |a + bi| = + \\sqrt{a^2+b^2}$$\n",
    "\n"
   ]
  },
  {
   "cell_type": "markdown",
   "id": "1909a16a-4b1b-4ed4-b4ed-867bd11c625a",
   "metadata": {},
   "source": [
    "# 3. Complex Numbers in Python\n",
    "    - Using Python's complex type\n",
    "    - Basic operations in Python"
   ]
  },
  {
   "cell_type": "code",
   "execution_count": 1,
   "id": "615168dd-713f-45f3-9e66-ccc96582d4d5",
   "metadata": {},
   "outputs": [
    {
     "name": "stdout",
     "output_type": "stream",
     "text": [
      "Addition: (3+2j)\n",
      "Subtraction: (1+4j)\n",
      "Multiplication: (5+1j)\n",
      "Division: (-0.5+2.5j)\n",
      "Conjugate of z1: (2-3j)\n",
      "Absolute value of z1: 3.605551275463989\n",
      "Absolute value of z1: 1.4142135623730951\n",
      "Absolute value of z1: 2.8284271247461903\n"
     ]
    }
   ],
   "source": [
    "# Example: Complex number operations in Python\n",
    "\n",
    "# Creating complex numbers\n",
    "z1 = complex(2, 3)  # 2 + 3j\n",
    "z2 = complex(1, -1) # 1 - 1j\n",
    "z3 = 2 + 2j\n",
    "\n",
    "# Basic operations\n",
    "print(\"Addition:\", z1 + z2)\n",
    "print(\"Subtraction:\", z1 - z2)\n",
    "print(\"Multiplication:\", z1 * z2)\n",
    "print(\"Division:\", z1 / z2)\n",
    "\n",
    "# Conjugate and absolute value\n",
    "print(\"Conjugate of z1:\", z1.conjugate())\n",
    "print(\"Absolute value of z1:\", abs(z1))\n",
    "print(\"Absolute value of z1:\", abs(z2))\n",
    "print(\"Absolute value of z1:\", abs(z3))\n"
   ]
  },
  {
   "cell_type": "markdown",
   "id": "b4843c53-587e-4ca0-bed8-b5114caf7872",
   "metadata": {},
   "source": [
    "# 4. Polar Representation of Complex Numbers\n",
    "\n",
    "In addition to the rectangular form (a + bi), complex numbers can also be represented in polar form. The polar form of a complex number expresses it in terms of a magnitude (r) and an angle (θ), and is written as `r(cos θ + i sin θ)` or `r∠θ`. This form is particularly useful in quantum computing, signal processing, and other fields where phase and amplitude are important.\n",
    "\n",
    "## Key Concepts\n",
    "- **Magnitude (r)**: The distance of the complex number from the origin in the complex plane, calculated as `sqrt(a^2 + b^2)`.\n",
    "- **Angle (θ)**: The counterclockwise angle measured from the positive x-axis to the line segment that joins the point to the origin, often given in radians.\n",
    "- **Euler's Formula**: `e^(iθ) = cos θ + i sin θ`, which allows the polar form to be written as `r * e^(iθ)`.\n",
    "\n",
    "## Converting between Rectangular and Polar Forms\n",
    "- To convert from rectangular to polar form, use `r = sqrt(a^2 + b^2)` and `θ = atan2(b, a)`.\n",
    "- To convert from polar to rectangular form, use `a = r * cos(θ)` and `b = r * sin(θ)`.\n",
    "\n",
    "## Python Implementation\n",
    "Use Python's `cmath` module for working with complex numbers in polar form.\n"
   ]
  },
  {
   "cell_type": "code",
   "execution_count": 2,
   "id": "8cb18818-65d0-46ef-835f-834dcd7ef711",
   "metadata": {},
   "outputs": [
    {
     "name": "stdout",
     "output_type": "stream",
     "text": [
      "Polar form: Magnitude = 5.0, Angle = 0.9272952180016122 radians\n",
      "Rectangular form: (3+3.9999999999999996j)\n"
     ]
    }
   ],
   "source": [
    "import cmath\n",
    "\n",
    "# Example: Converting a complex number to its polar form and back\n",
    "\n",
    "# Define a complex number in rectangular form\n",
    "z = complex(3, 4)\n",
    "\n",
    "# Convert to polar form\n",
    "r, theta = cmath.polar(z)\n",
    "print(f\"Polar form: Magnitude = {r}, Angle = {theta} radians\")\n",
    "\n",
    "# Convert back to rectangular form\n",
    "rectangular_form = cmath.rect(r, theta)\n",
    "print(f\"Rectangular form: {rectangular_form}\")\n"
   ]
  },
  {
   "cell_type": "markdown",
   "id": "94cd256c-77e4-4414-8eee-31de4fad30c1",
   "metadata": {},
   "source": [
    "## An interactive tool for polar and cartesian conversion"
   ]
  },
  {
   "cell_type": "code",
   "execution_count": 3,
   "id": "f551d4e5-90fb-4934-982c-a225579c328d",
   "metadata": {},
   "outputs": [
    {
     "data": {
      "application/vnd.jupyter.widget-view+json": {
       "model_id": "6531645ff81a4559846dc9986700b2f4",
       "version_major": 2,
       "version_minor": 0
      },
      "text/plain": [
       "VBox(children=(HBox(children=(FloatSlider(value=0.0, description='Real Part:', layout=Layout(width='400px'), m…"
      ]
     },
     "metadata": {},
     "output_type": "display_data"
    },
    {
     "data": {
      "application/vnd.jupyter.widget-view+json": {
       "model_id": "293952e1ce1c4a73bff1c61cd66986fb",
       "version_major": 2,
       "version_minor": 0
      },
      "text/plain": [
       "Output()"
      ]
     },
     "metadata": {},
     "output_type": "display_data"
    }
   ],
   "source": [
    "import cmath\n",
    "import matplotlib.pyplot as plt\n",
    "import numpy as np\n",
    "import ipywidgets as widgets\n",
    "from IPython.display import display\n",
    "\n",
    "def convert_and_plot(real=0, imaginary=0, magnitude=0, angle=0, convert_to='polar'):\n",
    "    if convert_to == 'polar':\n",
    "        z = complex(real, imaginary)\n",
    "        r, theta = cmath.polar(z)\n",
    "        display_text = f\"Cartesian: ({real}, {imaginary}) -> Polar: (r={r:.2f}, θ={np.degrees(theta):.2f}°)\"\n",
    "    else:\n",
    "        z = cmath.rect(magnitude, np.radians(angle))\n",
    "        display_text = f\"Polar: (r={magnitude}, θ={angle}°) -> Cartesian: ({z.real:.2f}, {z.imag:.2f})\"\n",
    "\n",
    "    fig, ax = plt.subplots()\n",
    "    ax.plot([0, z.real], [0, z.imag], 'ro-')\n",
    "    ax.set_xlim(-5, 5)\n",
    "    ax.set_ylim(-5, 5)\n",
    "    ax.set_xlabel('Real')\n",
    "    ax.set_ylabel('Imaginary')\n",
    "    ax.axhline(0, color='black',linewidth=0.5)\n",
    "    ax.axvline(0, color='black',linewidth=0.5)\n",
    "    ax.grid(True)\n",
    "    plt.title(display_text)\n",
    "    plt.show()\n",
    "\n",
    "style = {'description_width': 'initial'}\n",
    "layout = widgets.Layout(width='400px')\n",
    "\n",
    "# Creating interactive widgets\n",
    "real_slider = widgets.FloatSlider(min=-5, max=5, step=0.1, value=0, description='Real Part:', style=style, layout=layout)\n",
    "imaginary_slider = widgets.FloatSlider(min=-5, max=5, step=0.1, value=0, description='Imaginary Part:', style=style, layout=layout)\n",
    "magnitude_slider = widgets.FloatSlider(min=0, max=5, step=0.1, value=1, description='Magnitude:', style=style, layout=layout)\n",
    "angle_slider = widgets.FloatSlider(min=-180, max=180, step=1, value=0, description='Angle (degrees):', style=style, layout=layout)\n",
    "convert_dropdown = widgets.Dropdown(options=['polar', 'cartesian'], value='polar', description='Convert to:', style=style, layout=layout)\n",
    "\n",
    "# Interactive function\n",
    "\n",
    "ui = widgets.VBox([widgets.HBox([real_slider, imaginary_slider]), \n",
    "                   widgets.HBox([magnitude_slider, angle_slider]),\n",
    "                   convert_dropdown])\n",
    "out = widgets.interactive_output(convert_and_plot, {'real': real_slider, 'imaginary': imaginary_slider, \n",
    "                                                    'magnitude': magnitude_slider, 'angle': angle_slider, \n",
    "                                                    'convert_to': convert_dropdown})\n",
    "\n",
    "display(ui, out)\n",
    "\n"
   ]
  },
  {
   "cell_type": "markdown",
   "id": "9d0830c5-1f26-4633-b471-6589ca01580c",
   "metadata": {},
   "source": [
    "## Euler's Notation for Complex Numbers\n",
    "\n",
    "Euler's formula is a fundamental equation in complex analysis and provides a deep connection between trigonometry and complex exponential functions. It states that for any real number `x`, the following identity holds:\n",
    "\n",
    "$$ e^{ix} = \\cos(x) + i\\sin(x) $$\n",
    "\n",
    "This equation is known as Euler's formula. In this formula, `e` is the base of the natural logarithm, `i` is the imaginary unit, and `cos` and `sin` are the trigonometric functions cosine and sine respectively. The formula is often used in the polar representation of complex numbers.\n",
    "\n",
    "### Polar Representation Using Euler's Formula\n",
    "\n",
    "A complex number can be represented in polar coordinates as `r(cos θ + i sin θ)`. Using Euler's formula, this can be written in the more compact form:\n",
    "\n",
    "$$ z = r \\cdot e^{iθ} $$\n",
    "\n",
    "where `r` is the magnitude (modulus) of the complex number, and `θ` is the angle formed with the positive real axis, often referred to as the argument of the complex number.\n",
    "\n",
    "### Applications\n",
    "\n",
    "Euler's formula is widely used in various fields such as electrical engineering, quantum mechanics, and signal processing. It simplifies the analysis of waveforms, oscillations, and rotating systems.\n"
   ]
  },
  {
   "cell_type": "code",
   "execution_count": 1,
   "id": "2e7d46fd-6e9b-4943-88c1-cc0b9f647dad",
   "metadata": {},
   "outputs": [
    {
     "name": "stdout",
     "output_type": "stream",
     "text": [
      "Complex number using Euler's notation: (1.4142135623730951+1.414213562373095j)\n",
      "Cartesian form: 1.4142135623730951 + 1.414213562373095i\n"
     ]
    }
   ],
   "source": [
    "import cmath\n",
    "import numpy as np\n",
    "\n",
    "# Example to demonstrate Euler's notation for complex numbers\n",
    "\n",
    "# Define magnitude and angle\n",
    "r = 2.0  # Magnitude\n",
    "theta = np.pi / 4  # Angle in radians (45 degrees)\n",
    "\n",
    "# Using Euler's formula: z = r * e^(iθ)\n",
    "z = r * cmath.exp(complex(0, theta))\n",
    "\n",
    "print(f\"Complex number using Euler's notation: {z}\")\n",
    "\n",
    "# Verify by converting to Cartesian form\n",
    "real_part = z.real\n",
    "imaginary_part = z.imag\n",
    "print(f\"Cartesian form: {real_part} + {imaginary_part}i\")\n"
   ]
  },
  {
   "cell_type": "markdown",
   "id": "903ec828-a9eb-4a11-9aa9-29e0b6416894",
   "metadata": {},
   "source": [
    "# 5. Application: Fractals and Complex Numbers\n",
    "    - Introduction to fractals\n",
    "    - Generating a Mandelbrot set\n",
    "\n",
    "## Understanding the Mandelbrot Set\n",
    "\n",
    "The Mandelbrot Set is a fascinating and complex structure in the field of fractal geometry, discovered by mathematician Benoit Mandelbrot in 1980. It's a set of complex numbers that forms an intricate and infinitely detailed boundary when plotted in the complex plane.\n",
    "\n",
    "### What is the Mandelbrot Set?\n",
    "The Mandelbrot Set is defined as the set of complex numbers `c` for which the function `f(z) = z^2 + c` does not diverge when iterated from `z = 0`. In simpler terms, if repeatedly squaring the number and adding `c` never makes the value go to infinity, that number is part of the Mandelbrot Set.\n",
    "\n",
    "### Key Concepts:\n",
    "- **Iteration**: Starting with `z = 0`, we repeatedly apply the function `f(z) = z^2 + c`. The behavior of this sequence determines if `c` is in the Mandelbrot Set.\n",
    "- **Boundedness**: If the sequence remains bounded (doesn't go to infinity), then `c` is in the Mandelbrot Set.\n",
    "- **Escape Time Algorithm**: To visualize the set, we use an algorithm that assigns a color based on how quickly the values reach a certain threshold when iterated. Points inside the set typically remain black.\n",
    "\n",
    "### Properties of the Mandelbrot Set:\n",
    "- **Self-Similarity**: The set is fractal, meaning it contains smaller copies of itself.\n",
    "- **Complex Boundary**: The boundary of the Mandelbrot Set is infinitely complex. Zooming into the boundary reveals more detail.\n",
    "- **Area**: While the exact area of the Mandelbrot Set is unknown, it is finite.\n",
    "- **Connectedness**: Despite its complexity, the set is mathematically proven to be a connected set.\n",
    "\n",
    "### Plotting the Mandelbrot Set:\n",
    "To visualize the set, we iterate over a grid of complex numbers and use the escape time algorithm to color each point. Points that remain bounded (do not escape) after a set number of iterations are considered part of the Mandelbrot Set and are usually colored black.\n",
    "\n",
    "The beauty of the Mandelbrot Set lies not just in its visual complexity, but also in the way it bridges mathematics, art, and computer science. It serves as a powerful example of how simple rules can lead to incredibly intricate structures.\n"
   ]
  },
  {
   "cell_type": "code",
   "execution_count": 2,
   "id": "b6f5d496-c721-416b-a026-003cf91be10a",
   "metadata": {},
   "outputs": [
    {
     "data": {
      "image/png": "[encoded data removed]",
      "text/plain": [
       "<Figure size 640x480 with 2 Axes>"
      ]
     },
     "metadata": {},
     "output_type": "display_data"
    }
   ],
   "source": [
    "# Example: Generating a Mandelbrot set\n",
    "\n",
    "import numpy as np\n",
    "import matplotlib.pyplot as plt\n",
    "\n",
    "def mandelbrot(c, max_iter):\n",
    "    z = 0\n",
    "    for n in range(max_iter):\n",
    "        if abs(z) > 2:\n",
    "            return n\n",
    "        z = z*z + c\n",
    "    return max_iter\n",
    "\n",
    "# Create a grid of complex numbers\n",
    "pixels = 800\n",
    "max_iter = 30\n",
    "x = np.linspace(-2, 1, pixels)\n",
    "y = np.linspace(-1.5, 1.5, pixels)\n",
    "xx, yy = np.meshgrid(x, y)\n",
    "c = xx + yy*1j\n",
    "\n",
    "# Compute Mandelbrot set\n",
    "mandelbrot_set = np.array([mandelbrot(ci, max_iter) for ci in c.ravel()]).reshape(c.shape)\n",
    "\n",
    "# Plot\n",
    "plt.imshow(mandelbrot_set, extent=[-2, 1, -1.5, 1.5])\n",
    "plt.colorbar()\n",
    "plt.title(\"Mandelbrot Set\")\n",
    "plt.show()\n"
   ]
  },
  {
   "cell_type": "markdown",
   "id": "86e4c29a-ddee-4eca-b7ee-765f51b7cd28",
   "metadata": {},
   "source": [
    "# 6. Exercises for Students\n",
    "    - Practice problems on complex number operations\n",
    "    - Creating a Julia set fractal"
   ]
  },
  {
   "cell_type": "markdown",
   "id": "e65225e2-2518-4910-9fbc-9000042b22db",
   "metadata": {},
   "source": [
    "\n",
    "## Exercise 1: Basic Complex Number Operations\n",
    "1. Manually calculate and then verify using Python the result of `(3 + 4j) + (1 - 2j)`, `(5 + 6j) * (7 - 8j)`, and `(2 - 3j) / (1 + 4j)`.\n",
    "2. Find the conjugate and modulus of `(3 - 4j)`.\n",
    "\n",
    "## Exercise 2: Visualizing Complex Operations\n",
    "1. Write a Python function to plot a complex number on the complex plane. Use it to plot `(3 + 4j)` and its conjugate.\n",
    "2. Extend the function to show addition and multiplication of two complex numbers graphically.\n",
    "\n",
    "## Exercise 3: Exploring the Mandelbrot Set\n",
    "1. Modify the provided Mandelbrot set code to change its zoom level and center point. Observe how the fractal pattern changes.\n",
    "2. Experiment with different values of `max_iter` and observe the effect on the fractal's detail and computation time.\n",
    "\n",
    "## Exercise 4: Creating a Julia Set\n",
    "1. Implement a Julia set generator. Use a constant like `-0.4 + 0.6j` for the iteration `z = z*z + constant`.\n",
    "2. Explore how changing the constant changes the pattern of the Julia set.\n",
    "\n",
    "## Exercise 5: Complex Number Properties\n",
    "1. Prove that the absolute value of a product of two complex numbers is the product of their absolute values.\n",
    "2. Show that the conjugate of a sum of two complex numbers is the sum of their conjugates.\n",
    "\n"
   ]
  },
  {
   "cell_type": "code",
   "execution_count": null,
   "id": "3d80683e-b129-4449-bbf5-fd5e8acafba7",
   "metadata": {},
   "outputs": [],
   "source": []
  }
 ],
 "metadata": {
  "kernelspec": {
   "display_name": ".venv",
   "language": "python",
   "name": "python3"
  },
  "language_info": {
   "codemirror_mode": {
    "name": "ipython",
    "version": 3
   },
   "file_extension": ".py",
   "mimetype": "text/x-python",
   "name": "python",
   "nbconvert_exporter": "python",
   "pygments_lexer": "ipython3",
   "version": "3.13.1"
  }
 },
 "nbformat": 4,
 "nbformat_minor": 5
}
